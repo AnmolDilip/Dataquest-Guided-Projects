{
 "cells": [
  {
   "cell_type": "markdown",
   "metadata": {},
   "source": [
    "# Profitable App Profiles for the App Store and Google Play Markets"
   ]
  },
  {
   "cell_type": "markdown",
   "metadata": {},
   "source": [
    "This project aims to survey data on apps on The Play Store and The App Store. Since all these apps are free, their main source of revenue is through in-app advertisements. Hence, the number of users greatly determine the reenue for any given app. The more users who see and engage with the ads, the better. \n",
    "\n",
    "The goal of this project is to analyse the data and understand what type of apps are more likely to attract a higher amount of users. "
   ]
  },
  {
   "cell_type": "markdown",
   "metadata": {},
   "source": [
    "## The Use of Sample Data"
   ]
  },
  {
   "cell_type": "markdown",
   "metadata": {},
   "source": [
    "Since there are over 4 million apps on both the Play Store and App Store, it would take a lot of time and money to collect data on all of them. Therefore, it makes more sense to take a sample representative of the whole data for analysis purposes. \n",
    "\n",
    "* The sample dataset for apps from Google Play Store contains of 10,000 Android apps\n",
    "\n",
    "* The sample dataset for apps from App Store contains of 7,000 ios apps"
   ]
  },
  {
   "cell_type": "code",
   "execution_count": 1,
   "metadata": {},
   "outputs": [],
   "source": [
    "#opening both the sample datasets and saving them as list of lists\n",
    "\n",
    "file1 = open('googleplaystore.csv', encoding = 'utf8')\n",
    "from csv import reader\n",
    "reader_file1 = reader(file1)\n",
    "google_data = list(reader_file1)\n",
    "\n",
    "file2 = open('AppleStore.csv', encoding = 'utf8')\n",
    "from csv import reader\n",
    "reader_file2 = reader(file2)\n",
    "ios_data = list(reader_file2)"
   ]
  },
  {
   "cell_type": "markdown",
   "metadata": {},
   "source": [
    "## Exploring the first few rows of the sample datasets"
   ]
  },
  {
   "cell_type": "code",
   "execution_count": 2,
   "metadata": {},
   "outputs": [],
   "source": [
    "def explore_data(dataset, start, end, rows_and_columns=False):\n",
    "    dataset_slice = dataset[start:end]    \n",
    "    for row in dataset_slice:\n",
    "        print(row)\n",
    "        print('\\n') # adds a new (empty) line after each row\n",
    "\n",
    "    if rows_and_columns:\n",
    "        print('Number of rows:', len(dataset))\n",
    "        print('Number of columns:', len(dataset[0]))"
   ]
  },
  {
   "cell_type": "code",
   "execution_count": 3,
   "metadata": {},
   "outputs": [
    {
     "name": "stdout",
     "output_type": "stream",
     "text": [
      "['App', 'Category', 'Rating', 'Reviews', 'Size', 'Installs', 'Type', 'Price', 'Content Rating', 'Genres', 'Last Updated', 'Current Ver', 'Android Ver']\n",
      "\n",
      "\n",
      "['Photo Editor & Candy Camera & Grid & ScrapBook', 'ART_AND_DESIGN', '4.1', '159', '19M', '10,000+', 'Free', '0', 'Everyone', 'Art & Design', 'January 7, 2018', '1.0.0', '4.0.3 and up']\n",
      "\n",
      "\n",
      "['Coloring book moana', 'ART_AND_DESIGN', '3.9', '967', '14M', '500,000+', 'Free', '0', 'Everyone', 'Art & Design;Pretend Play', 'January 15, 2018', '2.0.0', '4.0.3 and up']\n",
      "\n",
      "\n"
     ]
    }
   ],
   "source": [
    "explore_data(google_data, 0, 3)"
   ]
  },
  {
   "cell_type": "code",
   "execution_count": 4,
   "metadata": {},
   "outputs": [
    {
     "name": "stdout",
     "output_type": "stream",
     "text": [
      "['id', 'track_name', 'size_bytes', 'currency', 'price', 'rating_count_tot', 'rating_count_ver', 'user_rating', 'user_rating_ver', 'ver', 'cont_rating', 'prime_genre', 'sup_devices.num', 'ipadSc_urls.num', 'lang.num', 'vpp_lic']\n",
      "\n",
      "\n",
      "['284882215', 'Facebook', '389879808', 'USD', '0.0', '2974676', '212', '3.5', '3.5', '95.0', '4+', 'Social Networking', '37', '1', '29', '1']\n",
      "\n",
      "\n",
      "['389801252', 'Instagram', '113954816', 'USD', '0.0', '2161558', '1289', '4.5', '4.0', '10.23', '12+', 'Photo & Video', '37', '0', '29', '1']\n",
      "\n",
      "\n"
     ]
    }
   ],
   "source": [
    "explore_data(ios_data, 0, 3)"
   ]
  },
  {
   "cell_type": "markdown",
   "metadata": {},
   "source": [
    "We can see that the first row in both the datasets consists of a row of Column Names (a.k.a the Header Row)\n",
    "\n",
    "Let's print out the Header rows seperately and try to identify which columns will be useful for our analysis. \n",
    "\n",
    "(Incase the column names are not descriptive enough, the links to the dataset documentations are given here:)\n",
    "* [Google Play Store Dataset](https://www.kaggle.com/lava18/google-play-store-appsGoogle)\n",
    "\n",
    "* [App Store Dataset](https://www.kaggle.com/ramamet4/app-store-apple-data-set-10k-apps)\n"
   ]
  },
  {
   "cell_type": "code",
   "execution_count": 5,
   "metadata": {},
   "outputs": [
    {
     "name": "stdout",
     "output_type": "stream",
     "text": [
      "['App', 'Category', 'Rating', 'Reviews', 'Size', 'Installs', 'Type', 'Price', 'Content Rating', 'Genres', 'Last Updated', 'Current Ver', 'Android Ver']\n"
     ]
    }
   ],
   "source": [
    "google_apps_header = google_data[0]\n",
    "print(google_apps_header)"
   ]
  },
  {
   "cell_type": "code",
   "execution_count": 7,
   "metadata": {},
   "outputs": [
    {
     "name": "stdout",
     "output_type": "stream",
     "text": [
      "['id', 'track_name', 'size_bytes', 'currency', 'price', 'rating_count_tot', 'rating_count_ver', 'user_rating', 'user_rating_ver', 'ver', 'cont_rating', 'prime_genre', 'sup_devices.num', 'ipadSc_urls.num', 'lang.num', 'vpp_lic']\n"
     ]
    }
   ],
   "source": [
    "ios_header = ios_data[0]\n",
    "print(ios_data[0])"
   ]
  },
  {
   "cell_type": "markdown",
   "metadata": {},
   "source": [
    "For the Play Store dataset:\n",
    "Columns like 'Category', 'Price', 'Rating', 'Installs', 'Content Rating', 'Genres', and 'Reviews' seem very useful for analysing which kind of apps are popular with users. \n",
    "\n",
    "For the App Store dataset:\n",
    "Columns like ''track_name', 'currency', 'price', 'rating_count_tot', 'rating_count_ver', and 'prime_genre' seem very useful for analysing which kind of apps are popular with users"
   ]
  },
  {
   "cell_type": "markdown",
   "metadata": {},
   "source": [
    "## Deleting inaccurate and duplicate data\n",
    "\n",
    "Since this analysis is only concerned with free english apps, the goal in this step is to remove all non-english apps and all apps that aren't free"
   ]
  },
  {
   "cell_type": "code",
   "execution_count": 35,
   "metadata": {},
   "outputs": [
    {
     "name": "stdout",
     "output_type": "stream",
     "text": [
      "13 16\n"
     ]
    }
   ],
   "source": [
    "#Checkimg for amy row discrepancies in both the datasets i.e. if any column values are missing\n",
    "\n",
    "google_length = len(google_data[0])\n",
    "ios_length = len(ios_data[0])\n",
    "\n",
    "print(google_length, ios_length)"
   ]
  },
  {
   "cell_type": "code",
   "execution_count": 37,
   "metadata": {},
   "outputs": [],
   "source": [
    "ios_data_1 = []\n",
    "google_data_1 = []\n",
    "\n",
    "def check_row_length(dataset, app_type):\n",
    "    \n",
    "    for row in dataset:\n",
    "        if app_type == \"Google\":\n",
    "            if len(row) == google_length:\n",
    "                google_data_1.append(row)\n",
    "        elif app_type == \"ios\":\n",
    "            if len(row) == ios_length:\n",
    "                ios_data_1.append(row)\n",
    "        else:\n",
    "            print(\"Wrong app type entered!\")\n",
    "            \n",
    "check_row_length(ios_data, \"ios\")\n",
    "check_row_length(google_data, \"Google\")"
   ]
  },
  {
   "cell_type": "code",
   "execution_count": 40,
   "metadata": {},
   "outputs": [
    {
     "name": "stdout",
     "output_type": "stream",
     "text": [
      "7198 7198\n",
      "10841 10841\n"
     ]
    }
   ],
   "source": [
    "print(len(ios_data),len(ios_data_1))\n",
    "print(len(google_data),len(google_data_1))"
   ]
  },
  {
   "cell_type": "markdown",
   "metadata": {},
   "source": [
    "As we can see, the number of rows are the same in both the original google_data/ios_data and the new datasets created through the check_row_length function. This means that there are no column values missing in either of the datasets and we can continue with the original datasets.\n",
    "\n",
    "In the next few steps, we will be checking if there are any duplicate entries in both the datasets."
   ]
  },
  {
   "cell_type": "code",
   "execution_count": 96,
   "metadata": {},
   "outputs": [],
   "source": [
    "#Checking for duplicates in ios_data \n",
    "\n",
    "ios_unique_apps = [] \n",
    "ios_duplicate_apps = [] \n",
    "\n",
    "for app in ios_data: \n",
    "    app_name = app[1] \n",
    "\n",
    "    if app_name not in ios_unique_apps:\n",
    "         ios_unique_apps.append(app_name)\n",
    "    else:\n",
    "         ios_duplicate_apps.append(app)"
   ]
  },
  {
   "cell_type": "code",
   "execution_count": 97,
   "metadata": {},
   "outputs": [
    {
     "name": "stdout",
     "output_type": "stream",
     "text": [
      "The number of unique apps:7196\n",
      "The number of duplicate apps:2\n"
     ]
    }
   ],
   "source": [
    "print(f'The number of unique apps:{len(ios_unique_apps)}')\n",
    "print(f'The number of duplicate apps:{len(ios_duplicate_apps)}')"
   ]
  },
  {
   "cell_type": "code",
   "execution_count": 20,
   "metadata": {},
   "outputs": [],
   "source": [
    "#Checking for duplicates in google_data\n",
    "\n",
    "google_unique_apps = [] \n",
    "google_duplicate_apps = [] \n",
    "\n",
    "for app in google_data: \n",
    "    app_name = app[0] \n",
    "\n",
    "    if app_name not in google_unique_apps:\n",
    "        google_unique_apps.append(app_name)\n",
    "    else:\n",
    "        google_duplicate_apps.append(app)\n"
   ]
  },
  {
   "cell_type": "code",
   "execution_count": 21,
   "metadata": {},
   "outputs": [
    {
     "name": "stdout",
     "output_type": "stream",
     "text": [
      "The number of unique apps:9660\n",
      "The number of duplicate apps:1181\n"
     ]
    }
   ],
   "source": [
    "print(f'The number of unique apps:{len(google_unique_apps)}')\n",
    "print(f'The number of duplicate apps:{len(google_duplicate_apps)}')"
   ]
  },
  {
   "cell_type": "markdown",
   "metadata": {},
   "source": [
    "As displayed by the output above, there are 90 duplicate apps in the ios dataset and 1181 duplicates in the google dataset. However, it is unwise to remove these duplicates randomly. "
   ]
  },
  {
   "cell_type": "code",
   "execution_count": 64,
   "metadata": {},
   "outputs": [
    {
     "name": "stdout",
     "output_type": "stream",
     "text": [
      "['Facebook', 'SOCIAL', '4.1', '78158306', 'Varies with device', '1,000,000,000+', 'Free', '0', 'Teen', 'Social', 'August 3, 2018', 'Varies with device', 'Varies with device']\n",
      "['Facebook', 'SOCIAL', '4.1', '78128208', 'Varies with device', '1,000,000,000+', 'Free', '0', 'Teen', 'Social', 'August 3, 2018', 'Varies with device', 'Varies with device']\n",
      "['284882215', 'Facebook', '389879808', 'USD', '0.0', '2974676', '212', '3.5', '3.5', '95.0', '4+', 'Social Networking', '37', '1', '29', '1']\n"
     ]
    }
   ],
   "source": [
    "for element in google_data:\n",
    "    if element[0] == \"Facebook\":\n",
    "        print(element)\n",
    "        \n",
    "for element in ios_data:\n",
    "    if element[1] == \"Facebook\":\n",
    "        print(element)"
   ]
  },
  {
   "cell_type": "markdown",
   "metadata": {},
   "source": [
    "For example: In the output shown above, we can see that it is wiser to keep the data with the higher number of reviews (the number in the fourth position), as it seems to be the more recent data of the two. \n",
    "\n",
    "It is also likely that the other duplicate apps have a similar situation. This is why the row with the highest number of reviews will be retained!"
   ]
  },
  {
   "cell_type": "code",
   "execution_count": 101,
   "metadata": {},
   "outputs": [],
   "source": [
    "\n",
    "def max_reviews(dataset, name_index, reviews_index):\n",
    "    \n",
    "    g_reviews_max = {}\n",
    "    i_reviews_max = {}\n",
    "\n",
    "    for row in dataset[1:]:\n",
    "        name = row[name_index]\n",
    "        reviews = float(row[reviews_index])\n",
    "        \n",
    "        if dataset == google_data:\n",
    "            if name in g_reviews_max and reviews > g_reviews_max[name]:\n",
    "                g_reviews_max[name] = reviews\n",
    "            else:\n",
    "                g_reviews_max[name] = reviews\n",
    "       \n",
    "                    \n",
    "        elif dataset == ios_data:\n",
    "            if name in i_reviews_max and reviews > i_reviews_max[name]:\n",
    "                i_reviews_max[name] = reviews\n",
    "            else:\n",
    "                i_reviews_max[name] = reviews\n",
    "         \n",
    "            \n",
    "        else:\n",
    "            print(\"Wrong dataset\")\n",
    "                \n",
    "    if dataset == google_data:\n",
    "        return g_reviews_max\n",
    "    else:\n",
    "        return i_reviews_max\n",
    "    "
   ]
  },
  {
   "cell_type": "code",
   "execution_count": 102,
   "metadata": {},
   "outputs": [],
   "source": [
    "g_reviews_max = max_reviews(google_data, 0, 3)\n",
    "i_reviews_max = max_reviews(ios_data,1,5 )"
   ]
  },
  {
   "cell_type": "markdown",
   "metadata": {},
   "source": [
    "Now let's check if our dictionary has actually captured the entry with the highest number of reviews. Just a few lines ago, we noticed that the highest number of reviews for facebook was 78128208. Therefore, our dictionary g_reviews_max with the key 'Facebook' should store the same value"
   ]
  },
  {
   "cell_type": "code",
   "execution_count": 103,
   "metadata": {},
   "outputs": [
    {
     "data": {
      "text/plain": [
       "78128208.0"
      ]
     },
     "execution_count": 103,
     "metadata": {},
     "output_type": "execute_result"
    }
   ],
   "source": [
    "g_reviews_max['Facebook']"
   ]
  },
  {
   "cell_type": "code",
   "execution_count": 104,
   "metadata": {},
   "outputs": [
    {
     "data": {
      "text/plain": [
       "2161558.0"
      ]
     },
     "execution_count": 104,
     "metadata": {},
     "output_type": "execute_result"
    }
   ],
   "source": [
    "i_reviews_max['Instagram']"
   ]
  },
  {
   "cell_type": "markdown",
   "metadata": {},
   "source": [
    "As we can see from the above outputs, our dictionaries have captured the maximum number of reviews for each app successfully\n",
    "\n",
    "In the below function, we are going to create two lists\n",
    "* apps_clean to store the data for each app and it's corresponding row with the highest number of reviews\n",
    "* apps_already_added to store the names of the apps that we have already added, so that we don't add apps twice in the case that two rows have the same highest number of reviews\n",
    "\n",
    "We basically loop over each row in our Play Store and App Store datasets and check for two conditions\n",
    "* If the name of the app is not present in the apps_already_added list\n",
    "* If the corresponding reviews in that row is equal to the highest number of reviews for the app in the g_reviews_max/i_reviews_max dictionary\n",
    "\n",
    "Provided these conditions are satisfied, we then add the row to the apps_clean list, and the name element of the row to the apps_already_added list"
   ]
  },
  {
   "cell_type": "code",
   "execution_count": 108,
   "metadata": {},
   "outputs": [],
   "source": [
    "def remove_duplicates(dataset, name_index, reviews_index):\n",
    "    apps_clean = []\n",
    "    apps_already_added = []\n",
    "    \n",
    "    for row in dataset[1:]:\n",
    "        name = row[name_index]\n",
    "        reviews = float(row[reviews_index])\n",
    "        \n",
    "        if dataset == google_data:\n",
    "            if name not in apps_already_added and reviews == g_reviews_max[name]:\n",
    "                apps_clean.append(row)\n",
    "                apps_already_added.append(name)\n",
    "                \n",
    "        elif dataset == ios_data:\n",
    "            if name not in apps_already_added and reviews == i_reviews_max[name]:\n",
    "                apps_clean.append(row)\n",
    "                apps_already_added.append(name)\n",
    "                \n",
    "        else:\n",
    "            print(\"Wrong dataset\")\n",
    "    \n",
    "    return apps_clean"
   ]
  },
  {
   "cell_type": "code",
   "execution_count": 109,
   "metadata": {},
   "outputs": [],
   "source": [
    "clean_google_data = remove_duplicates(google_data, 0, 3)"
   ]
  },
  {
   "cell_type": "code",
   "execution_count": 116,
   "metadata": {},
   "outputs": [
    {
     "name": "stdout",
     "output_type": "stream",
     "text": [
      "9659 9660\n",
      "['Facebook', 'SOCIAL', '4.1', '78128208', 'Varies with device', '1,000,000,000+', 'Free', '0', 'Teen', 'Social', 'August 3, 2018', 'Varies with device', 'Varies with device']\n"
     ]
    }
   ],
   "source": [
    "print(len(clean_google_data), len(google_unique_apps))\n",
    "\n",
    "for element in clean_google_data:\n",
    "    if element[0] == \"Facebook\":\n",
    "        print(element)"
   ]
  },
  {
   "cell_type": "code",
   "execution_count": 112,
   "metadata": {},
   "outputs": [],
   "source": [
    "clean_ios_data = remove_duplicates(ios_data, 1, 5)"
   ]
  },
  {
   "cell_type": "code",
   "execution_count": 117,
   "metadata": {},
   "outputs": [
    {
     "name": "stdout",
     "output_type": "stream",
     "text": [
      "7195 7196\n",
      "['284882215', 'Facebook', '389879808', 'USD', '0.0', '2974676', '212', '3.5', '3.5', '95.0', '4+', 'Social Networking', '37', '1', '29', '1']\n"
     ]
    }
   ],
   "source": [
    "print(len(clean_ios_data), len(ios_unique_apps))\n",
    "\n",
    "for element in clean_ios_data:\n",
    "    if element[1] == \"Facebook\":\n",
    "        print(element)"
   ]
  },
  {
   "cell_type": "markdown",
   "metadata": {},
   "source": [
    "As we can see from the above outputs, the clean_google_data and clean_ios_data lists contain only the unique app names along with their respective highest number of reviews. Note that the length of both the datasets match with their respective google_unique_apps and ios_unique_apps lists. (-1 for the Header row)"
   ]
  },
  {
   "cell_type": "markdown",
   "metadata": {},
   "source": [
    "## Deleting Non English App Data"
   ]
  },
  {
   "cell_type": "code",
   "execution_count": 144,
   "metadata": {},
   "outputs": [],
   "source": [
    "def check_eng(dataset,name_index):\n",
    "    english_apps = []\n",
    " \n",
    "    for row in dataset:\n",
    "        name = row[name_index]\n",
    "        count = 0\n",
    "        for element in name:\n",
    "            if ord(element) > 127:\n",
    "                count += 1\n",
    "        if count <= 3:\n",
    "            english_apps.append(row)\n",
    "        \n",
    "    return english_apps"
   ]
  },
  {
   "cell_type": "code",
   "execution_count": 145,
   "metadata": {},
   "outputs": [],
   "source": [
    "eng_google_apps = check_eng(clean_google_data, 0)\n",
    "eng_ios_apps = check_eng(clean_ios_data, 1)"
   ]
  },
  {
   "cell_type": "code",
   "execution_count": 146,
   "metadata": {},
   "outputs": [
    {
     "name": "stdout",
     "output_type": "stream",
     "text": [
      "9614\n",
      "6181\n"
     ]
    }
   ],
   "source": [
    "print(len(eng_google_apps))\n",
    "print(len(eng_ios_apps))"
   ]
  },
  {
   "cell_type": "markdown",
   "metadata": {},
   "source": [
    "## Isolating Free Apps"
   ]
  },
  {
   "cell_type": "code",
   "execution_count": 148,
   "metadata": {},
   "outputs": [
    {
     "name": "stdout",
     "output_type": "stream",
     "text": [
      "['U Launcher Lite – FREE Live Cool Themes, Hide Apps', 'ART_AND_DESIGN', '4.7', '87510', '8.7M', '5,000,000+', 'Free', '0', 'Everyone', 'Art & Design', 'August 1, 2018', '1.2.4', '4.0.3 and up']\n",
      "\n",
      "\n",
      "['389801252', 'Instagram', '113954816', 'USD', '0.0', '2161558', '1289', '4.5', '4.0', '10.23', '12+', 'Photo & Video', '37', '0', '29', '1']\n"
     ]
    }
   ],
   "source": [
    "print(eng_google_apps[1])\n",
    "print('\\n')\n",
    "print(eng_ios_apps[1])"
   ]
  },
  {
   "cell_type": "markdown",
   "metadata": {},
   "source": [
    "The free_apps function is going to take in the eng_google_apps and eng_ios_apps lists as the dataset arguments, along with the index positions of the 'Price' value in both the datasets. Then it is going to loop over each row and check if the price value is equal to 0, if yes, then the row will be appended to the final cleaned list of apps, if not, the row will be ignored. "
   ]
  },
  {
   "cell_type": "code",
   "execution_count": 149,
   "metadata": {},
   "outputs": [],
   "source": [
    "def free_apps(dataset, price_index):\n",
    "    final_apps = []\n",
    "    \n",
    "    for row in dataset:\n",
    "        price = row[price_index]\n",
    "        if price == \"0\" or price == \"0.0\":\n",
    "            final_apps.append(row)\n",
    "            \n",
    "    return final_apps"
   ]
  },
  {
   "cell_type": "code",
   "execution_count": 150,
   "metadata": {},
   "outputs": [],
   "source": [
    "final_google_data = free_apps(eng_google_apps, 7)\n",
    "final_ios_data = free_apps(eng_ios_apps, 4)"
   ]
  },
  {
   "cell_type": "code",
   "execution_count": 151,
   "metadata": {},
   "outputs": [
    {
     "name": "stdout",
     "output_type": "stream",
     "text": [
      "8864\n",
      "3220\n"
     ]
    }
   ],
   "source": [
    "print(len(final_google_data))\n",
    "print(len(final_ios_data))"
   ]
  },
  {
   "cell_type": "markdown",
   "metadata": {},
   "source": [
    "So we have about 8864 Play Store apps and 3220 App Store apps to conduct our analysis on"
   ]
  },
  {
   "cell_type": "markdown",
   "metadata": {},
   "source": [
    "# Analyzing the Cleaned Lists"
   ]
  },
  {
   "cell_type": "markdown",
   "metadata": {},
   "source": [
    "The validation strategy for an app idea has three steps:\n",
    "\n",
    "* Build a minimal Android version of the app, and add it to Google Play.\n",
    "* If the app has a good response from users, develop it further.\n",
    "* If the app is profitable after six months, build an iOS version of the app and add it to the App Store.\n",
    "\n",
    "Because the end goal of this project is to  find app profiles that are successful in both markets. Let's begin the analysis by determining the most common genres for each market.\n",
    "\n",
    "For the Play Store dataset: Columns like 'Category', and 'Genres' can give us an idea of how many users use apps per genre and category\n",
    "\n",
    "For the App Store dataset: Similary 'prime_genre' seem very useful for analysing which kind of apps are popular with users"
   ]
  },
  {
   "cell_type": "code",
   "execution_count": 156,
   "metadata": {},
   "outputs": [],
   "source": [
    "def freq_table(dataset, index):\n",
    "    freq_dict = {}\n",
    "    total_rows = 0\n",
    "    \n",
    "    for row in dataset:\n",
    "        total_rows += 1\n",
    "        key_value = row[index]\n",
    "        if key_value in freq_dict:\n",
    "            freq_dict[key_value] += 1\n",
    "        elif key_value not in freq_dict:\n",
    "            freq_dict[key_value] = 1\n",
    "    \n",
    "    for key in freq_dict:\n",
    "        freq_dict[key] /= total_rows \n",
    "        freq_dict[key] = round(freq_dict[key]*100, 2)\n",
    "            \n",
    "    return freq_dict"
   ]
  },
  {
   "cell_type": "code",
   "execution_count": 157,
   "metadata": {},
   "outputs": [],
   "source": [
    "def display_table(dataset, index):\n",
    "    table = freq_table(dataset, index)\n",
    "    table_display = []\n",
    "    for key in table:\n",
    "        key_val_as_tuple = (table[key], key)\n",
    "        table_display.append(key_val_as_tuple)\n",
    "\n",
    "    table_sorted = sorted(table_display, reverse = True)\n",
    "    for entry in table_sorted:\n",
    "        print(entry[1], ':', entry[0])"
   ]
  },
  {
   "cell_type": "code",
   "execution_count": 158,
   "metadata": {},
   "outputs": [
    {
     "name": "stdout",
     "output_type": "stream",
     "text": [
      "FAMILY : 19.22\n",
      "GAME : 9.51\n",
      "TOOLS : 8.46\n",
      "BUSINESS : 4.58\n",
      "LIFESTYLE : 3.9\n",
      "PRODUCTIVITY : 3.89\n",
      "FINANCE : 3.7\n",
      "MEDICAL : 3.54\n",
      "SPORTS : 3.42\n",
      "PERSONALIZATION : 3.32\n",
      "COMMUNICATION : 3.25\n",
      "HEALTH_AND_FITNESS : 3.07\n",
      "PHOTOGRAPHY : 2.94\n",
      "NEWS_AND_MAGAZINES : 2.8\n",
      "SOCIAL : 2.66\n",
      "TRAVEL_AND_LOCAL : 2.34\n",
      "SHOPPING : 2.25\n",
      "BOOKS_AND_REFERENCE : 2.14\n",
      "DATING : 1.86\n",
      "VIDEO_PLAYERS : 1.78\n",
      "MAPS_AND_NAVIGATION : 1.4\n",
      "FOOD_AND_DRINK : 1.24\n",
      "EDUCATION : 1.13\n",
      "LIBRARIES_AND_DEMO : 0.94\n",
      "AUTO_AND_VEHICLES : 0.93\n",
      "ENTERTAINMENT : 0.88\n",
      "HOUSE_AND_HOME : 0.82\n",
      "WEATHER : 0.8\n",
      "EVENTS : 0.71\n",
      "PARENTING : 0.65\n",
      "ART_AND_DESIGN : 0.64\n",
      "COMICS : 0.62\n",
      "BEAUTY : 0.6\n"
     ]
    }
   ],
   "source": [
    "display_table(final_google_data, 1 )"
   ]
  },
  {
   "cell_type": "code",
   "execution_count": 160,
   "metadata": {},
   "outputs": [
    {
     "name": "stdout",
     "output_type": "stream",
     "text": [
      "Tools : 8.45\n",
      "Entertainment : 6.07\n",
      "Education : 5.35\n",
      "Business : 4.58\n",
      "Productivity : 3.89\n",
      "Lifestyle : 3.89\n",
      "Finance : 3.7\n",
      "Medical : 3.54\n",
      "Sports : 3.46\n",
      "Personalization : 3.32\n",
      "Communication : 3.25\n",
      "Action : 3.1\n",
      "Health & Fitness : 3.07\n",
      "Photography : 2.94\n",
      "News & Magazines : 2.8\n",
      "Social : 2.66\n",
      "Travel & Local : 2.32\n",
      "Shopping : 2.25\n",
      "Books & Reference : 2.14\n",
      "Simulation : 2.04\n",
      "Dating : 1.86\n",
      "Arcade : 1.86\n",
      "Video Players & Editors : 1.78\n",
      "Casual : 1.75\n",
      "Maps & Navigation : 1.4\n",
      "Food & Drink : 1.24\n",
      "Puzzle : 1.13\n",
      "Racing : 0.99\n",
      "Role Playing : 0.94\n",
      "Libraries & Demo : 0.94\n",
      "Auto & Vehicles : 0.93\n",
      "Strategy : 0.91\n",
      "House & Home : 0.82\n",
      "Weather : 0.8\n",
      "Events : 0.71\n",
      "Adventure : 0.68\n",
      "Comics : 0.61\n",
      "Beauty : 0.6\n",
      "Art & Design : 0.6\n",
      "Parenting : 0.5\n",
      "Card : 0.44\n",
      "Casino : 0.43\n",
      "Trivia : 0.42\n",
      "Educational;Education : 0.39\n",
      "Board : 0.38\n",
      "Educational : 0.37\n",
      "Education;Education : 0.34\n",
      "Word : 0.26\n",
      "Casual;Pretend Play : 0.24\n",
      "Music : 0.2\n",
      "Racing;Action & Adventure : 0.17\n",
      "Puzzle;Brain Games : 0.17\n",
      "Entertainment;Music & Video : 0.17\n",
      "Casual;Brain Games : 0.14\n",
      "Casual;Action & Adventure : 0.14\n",
      "Arcade;Action & Adventure : 0.12\n",
      "Action;Action & Adventure : 0.1\n",
      "Educational;Pretend Play : 0.09\n",
      "Simulation;Action & Adventure : 0.08\n",
      "Parenting;Education : 0.08\n",
      "Entertainment;Brain Games : 0.08\n",
      "Board;Brain Games : 0.08\n",
      "Parenting;Music & Video : 0.07\n",
      "Educational;Brain Games : 0.07\n",
      "Casual;Creativity : 0.07\n",
      "Art & Design;Creativity : 0.07\n",
      "Education;Pretend Play : 0.06\n",
      "Role Playing;Pretend Play : 0.05\n",
      "Education;Creativity : 0.05\n",
      "Role Playing;Action & Adventure : 0.03\n",
      "Puzzle;Action & Adventure : 0.03\n",
      "Entertainment;Creativity : 0.03\n",
      "Entertainment;Action & Adventure : 0.03\n",
      "Educational;Creativity : 0.03\n",
      "Educational;Action & Adventure : 0.03\n",
      "Education;Music & Video : 0.03\n",
      "Education;Brain Games : 0.03\n",
      "Education;Action & Adventure : 0.03\n",
      "Adventure;Action & Adventure : 0.03\n",
      "Video Players & Editors;Music & Video : 0.02\n",
      "Sports;Action & Adventure : 0.02\n",
      "Simulation;Pretend Play : 0.02\n",
      "Puzzle;Creativity : 0.02\n",
      "Music;Music & Video : 0.02\n",
      "Entertainment;Pretend Play : 0.02\n",
      "Casual;Education : 0.02\n",
      "Board;Action & Adventure : 0.02\n",
      "Trivia;Education : 0.01\n",
      "Travel & Local;Action & Adventure : 0.01\n",
      "Tools;Education : 0.01\n",
      "Strategy;Education : 0.01\n",
      "Strategy;Creativity : 0.01\n",
      "Strategy;Action & Adventure : 0.01\n",
      "Simulation;Education : 0.01\n",
      "Role Playing;Brain Games : 0.01\n",
      "Racing;Pretend Play : 0.01\n",
      "Puzzle;Education : 0.01\n",
      "Parenting;Brain Games : 0.01\n",
      "Music & Audio;Music & Video : 0.01\n",
      "Lifestyle;Pretend Play : 0.01\n",
      "Lifestyle;Education : 0.01\n",
      "Health & Fitness;Education : 0.01\n",
      "Health & Fitness;Action & Adventure : 0.01\n",
      "Entertainment;Education : 0.01\n",
      "Communication;Creativity : 0.01\n",
      "Comics;Creativity : 0.01\n",
      "Casual;Music & Video : 0.01\n",
      "Card;Brain Games : 0.01\n",
      "Card;Action & Adventure : 0.01\n",
      "Books & Reference;Education : 0.01\n",
      "Art & Design;Pretend Play : 0.01\n",
      "Art & Design;Action & Adventure : 0.01\n",
      "Arcade;Pretend Play : 0.01\n",
      "Adventure;Education : 0.01\n"
     ]
    }
   ],
   "source": [
    "display_table(final_google_data, -4)"
   ]
  },
  {
   "cell_type": "code",
   "execution_count": 161,
   "metadata": {},
   "outputs": [
    {
     "name": "stdout",
     "output_type": "stream",
     "text": [
      "Games : 58.14\n",
      "Entertainment : 7.89\n",
      "Photo & Video : 4.97\n",
      "Education : 3.66\n",
      "Social Networking : 3.29\n",
      "Shopping : 2.61\n",
      "Utilities : 2.52\n",
      "Sports : 2.14\n",
      "Music : 2.05\n",
      "Health & Fitness : 2.02\n",
      "Productivity : 1.74\n",
      "Lifestyle : 1.58\n",
      "News : 1.34\n",
      "Travel : 1.24\n",
      "Finance : 1.12\n",
      "Weather : 0.87\n",
      "Food & Drink : 0.81\n",
      "Reference : 0.56\n",
      "Business : 0.53\n",
      "Book : 0.43\n",
      "Navigation : 0.19\n",
      "Medical : 0.19\n",
      "Catalogs : 0.12\n"
     ]
    }
   ],
   "source": [
    "display_table(final_ios_data, -5)"
   ]
  },
  {
   "cell_type": "code",
   "execution_count": null,
   "metadata": {},
   "outputs": [],
   "source": []
  },
  {
   "cell_type": "code",
   "execution_count": null,
   "metadata": {},
   "outputs": [],
   "source": []
  },
  {
   "cell_type": "code",
   "execution_count": null,
   "metadata": {},
   "outputs": [],
   "source": []
  },
  {
   "cell_type": "code",
   "execution_count": null,
   "metadata": {},
   "outputs": [],
   "source": []
  },
  {
   "cell_type": "code",
   "execution_count": null,
   "metadata": {},
   "outputs": [],
   "source": []
  },
  {
   "cell_type": "code",
   "execution_count": null,
   "metadata": {},
   "outputs": [],
   "source": []
  },
  {
   "cell_type": "code",
   "execution_count": null,
   "metadata": {},
   "outputs": [],
   "source": []
  }
 ],
 "metadata": {
  "kernelspec": {
   "display_name": "Python 3",
   "language": "python",
   "name": "python3"
  },
  "language_info": {
   "codemirror_mode": {
    "name": "ipython",
    "version": 3
   },
   "file_extension": ".py",
   "mimetype": "text/x-python",
   "name": "python",
   "nbconvert_exporter": "python",
   "pygments_lexer": "ipython3",
   "version": "3.8.2"
  }
 },
 "nbformat": 4,
 "nbformat_minor": 2
}
