{
 "cells": [
  {
   "cell_type": "markdown",
   "metadata": {
    "collapsed": true
   },
   "source": [
    "# Exploring Hacker News Posts\n",
    "\n",
    "This project aims to explore the posts that are made on Hacker News, a site started by the startup incubator Y Combinator. The project aims to specifically deal with posts that are either asking questions or showing projects, products, answers etc. on Hacker News. \n",
    "\n",
    "The goal is to discover primarily two things:\n",
    "* Are their more questions being asked on Hacker News, or more products/projects being displayed by users on Hacker News?\n",
    "* Do posts created at a certain time receive more comments on average?\n",
    "\n",
    "For this project, we will be working with the [Hacker News dataset]([https://www.kaggle.com/hacker-news/hacker-news)"
   ]
  },
  {
   "cell_type": "code",
   "execution_count": 1,
   "metadata": {},
   "outputs": [],
   "source": [
    "from csv import reader"
   ]
  },
  {
   "cell_type": "code",
   "execution_count": 2,
   "metadata": {},
   "outputs": [],
   "source": [
    "#Opening and reading the file and then converting it into a list of lists\n",
    "\n",
    "opened_file = open('hacker_news.csv')\n",
    "read_file = reader(opened_file)\n",
    "hn = list(read_file)"
   ]
  },
  {
   "cell_type": "code",
   "execution_count": 3,
   "metadata": {},
   "outputs": [
    {
     "data": {
      "text/plain": [
       "[['id', 'title', 'url', 'num_points', 'num_comments', 'author', 'created_at'],\n",
       " ['12224879',\n",
       "  'Interactive Dynamic Video',\n",
       "  'http://www.interactivedynamicvideo.com/',\n",
       "  '386',\n",
       "  '52',\n",
       "  'ne0phyte',\n",
       "  '8/4/2016 11:52'],\n",
       " ['10975351',\n",
       "  'How to Use Open Source and Shut the Fuck Up at the Same Time',\n",
       "  'http://hueniverse.com/2016/01/26/how-to-use-open-source-and-shut-the-fuck-up-at-the-same-time/',\n",
       "  '39',\n",
       "  '10',\n",
       "  'josep2',\n",
       "  '1/26/2016 19:30'],\n",
       " ['11964716',\n",
       "  \"Florida DJs May Face Felony for April Fools' Water Joke\",\n",
       "  'http://www.thewire.com/entertainment/2013/04/florida-djs-april-fools-water-joke/63798/',\n",
       "  '2',\n",
       "  '1',\n",
       "  'vezycash',\n",
       "  '6/23/2016 22:20'],\n",
       " ['11919867',\n",
       "  'Technology ventures: From Idea to Enterprise',\n",
       "  'https://www.amazon.com/Technology-Ventures-Enterprise-Thomas-Byers/dp/0073523429',\n",
       "  '3',\n",
       "  '1',\n",
       "  'hswarna',\n",
       "  '6/17/2016 0:01']]"
      ]
     },
     "execution_count": 3,
     "metadata": {},
     "output_type": "execute_result"
    }
   ],
   "source": [
    "hn[:5]"
   ]
  },
  {
   "cell_type": "markdown",
   "metadata": {},
   "source": [
    "We can see that the first row is the header row, in order to avoid any confusions when we loop over the rows in the dataset, the header row will be extracted"
   ]
  },
  {
   "cell_type": "code",
   "execution_count": 4,
   "metadata": {},
   "outputs": [],
   "source": [
    "headers = hn[0]\n",
    "hn = hn[1:]"
   ]
  },
  {
   "cell_type": "code",
   "execution_count": 5,
   "metadata": {},
   "outputs": [
    {
     "data": {
      "text/plain": [
       "[['12224879',\n",
       "  'Interactive Dynamic Video',\n",
       "  'http://www.interactivedynamicvideo.com/',\n",
       "  '386',\n",
       "  '52',\n",
       "  'ne0phyte',\n",
       "  '8/4/2016 11:52'],\n",
       " ['10975351',\n",
       "  'How to Use Open Source and Shut the Fuck Up at the Same Time',\n",
       "  'http://hueniverse.com/2016/01/26/how-to-use-open-source-and-shut-the-fuck-up-at-the-same-time/',\n",
       "  '39',\n",
       "  '10',\n",
       "  'josep2',\n",
       "  '1/26/2016 19:30'],\n",
       " ['11964716',\n",
       "  \"Florida DJs May Face Felony for April Fools' Water Joke\",\n",
       "  'http://www.thewire.com/entertainment/2013/04/florida-djs-april-fools-water-joke/63798/',\n",
       "  '2',\n",
       "  '1',\n",
       "  'vezycash',\n",
       "  '6/23/2016 22:20']]"
      ]
     },
     "execution_count": 5,
     "metadata": {},
     "output_type": "execute_result"
    }
   ],
   "source": [
    "#Display first three rows to check if header has been removed\n",
    "hn[:3]"
   ]
  },
  {
   "cell_type": "markdown",
   "metadata": {},
   "source": [
    "Since the project is primarily concerned with 'ask hn' and 'show hn' posts, the next step will be to segregate the hn list into two seperate lists. \n",
    "\n",
    "* A list 'ask_posts' containing all the ask hn questions\n",
    "* A list 'show_posts' containing all the show hn questions"
   ]
  },
  {
   "cell_type": "code",
   "execution_count": 6,
   "metadata": {},
   "outputs": [],
   "source": [
    "ask_posts = []\n",
    "show_posts = []\n",
    "others = []\n",
    "\n",
    "for row in hn:\n",
    "    title = row[1]\n",
    "    if title.lower().startswith('ask hn'):\n",
    "        ask_posts.append(row)\n",
    "    elif title.lower().startswith('show hn'):\n",
    "        show_posts.append(row)\n",
    "    else:\n",
    "        others.append(row)"
   ]
  },
  {
   "cell_type": "code",
   "execution_count": 7,
   "metadata": {},
   "outputs": [
    {
     "name": "stdout",
     "output_type": "stream",
     "text": [
      "Length of ask_posts: 1744\n",
      "Length of show_posts: 1162\n",
      "Length of others: 17194\n"
     ]
    }
   ],
   "source": [
    "# Checking the lengths of all three lists now\n",
    "print(f'Length of ask_posts: {len(ask_posts)}')\n",
    "print(f'Length of show_posts: {len(show_posts)}')\n",
    "print(f'Length of others: {len(others)}')"
   ]
  },
  {
   "cell_type": "code",
   "execution_count": 8,
   "metadata": {},
   "outputs": [
    {
     "name": "stdout",
     "output_type": "stream",
     "text": [
      "['id', 'title', 'url', 'num_points', 'num_comments', 'author', 'created_at']\n",
      "\n",
      "\n",
      "[['12296411', 'Ask HN: How to improve my personal website?', '', '2', '6', 'ahmedbaracat', '8/16/2016 9:55'], ['10610020', 'Ask HN: Am I the only one outraged by Twitter shutting down share counts?', '', '28', '29', 'tkfx', '11/22/2015 13:43'], ['11610310', 'Ask HN: Aby recent changes to CSS that broke mobile?', '', '1', '1', 'polskibus', '5/2/2016 10:14'], ['12210105', 'Ask HN: Looking for Employee #3 How do I do it?', '', '1', '3', 'sph130', '8/2/2016 14:20'], ['10394168', 'Ask HN: Someone offered to buy my browser extension from me. What now?', '', '28', '17', 'roykolak', '10/15/2015 16:38']]\n"
     ]
    }
   ],
   "source": [
    "print(headers)\n",
    "print('\\n')\n",
    "print(ask_posts[0:5])"
   ]
  },
  {
   "cell_type": "markdown",
   "metadata": {},
   "source": [
    "In the following steps, the total number of comments for each list will be counted. This will give us an idea about how many comments 'ask hn' and 'show hn' posts get respectively"
   ]
  },
  {
   "cell_type": "code",
   "execution_count": 9,
   "metadata": {},
   "outputs": [],
   "source": [
    "#Defining a function to calculate the total and average number of comments in the lists\n",
    "\n",
    "def total_comments(list_name, index):\n",
    "    total_comments = 0\n",
    "    \n",
    "    for row in list_name:\n",
    "        num_comments = float(row[index])\n",
    "        total_comments += num_comments\n",
    "        \n",
    "    avg_comments = round(total_comments/len(ask_posts), 2)\n",
    "    \n",
    "    return total_comments, avg_comments\n",
    "        "
   ]
  },
  {
   "cell_type": "code",
   "execution_count": 10,
   "metadata": {},
   "outputs": [
    {
     "name": "stdout",
     "output_type": "stream",
     "text": [
      "The total number of comments for 'ask hn' type posts: 24483.0\n",
      "The average number of comments on each 'ask hn' post: 14.04\n",
      "The total number of comments for 'show hn' type posts: 11988.0\n",
      "The average number of comments on each 'show hn' post: 6.87\n"
     ]
    }
   ],
   "source": [
    "total_ask_comments, avg_ask_comments = total_comments(ask_posts, 4)\n",
    "total_show_comments, avg_show_comments = total_comments(show_posts, 4)\n",
    "\n",
    "print(f\"The total number of comments for 'ask hn' type posts: {total_ask_comments}\")\n",
    "print(f\"The average number of comments on each 'ask hn' post: {avg_ask_comments}\")\n",
    "print(f\"The total number of comments for 'show hn' type posts: {total_show_comments}\")\n",
    "print(f\"The average number of comments on each 'show hn' post: {avg_show_comments}\")\n"
   ]
  },
  {
   "cell_type": "markdown",
   "metadata": {},
   "source": [
    "As evidenced by the output above, ask posts receive more comments per post on average - approximately 14 - and have a higher total number of comments!\n",
    "\n",
    "In comparision to this, show posts have a lower average - approximately 7 -  and have a lower total number of comments."
   ]
  },
  {
   "cell_type": "markdown",
   "metadata": {},
   "source": [
    "## Determining whether the timing of ask posts matter\n",
    "\n",
    "### The timezone being considered here is the US Time Zone\n",
    "\n",
    "Since ask posts receive more comments than show posts, the remaining analysis will only be focused on ask posts. \n",
    "\n",
    "The next goal of this project is to determine if the timing of ask posts matter i.e. do posts made at certain hours during the day receive more attention and engagement. "
   ]
  },
  {
   "cell_type": "code",
   "execution_count": 11,
   "metadata": {},
   "outputs": [
    {
     "name": "stdout",
     "output_type": "stream",
     "text": [
      "['id', 'title', 'url', 'num_points', 'num_comments', 'author', 'created_at']\n",
      "\n",
      "\n",
      "[['12296411', 'Ask HN: How to improve my personal website?', '', '2', '6', 'ahmedbaracat', '8/16/2016 9:55'], ['10610020', 'Ask HN: Am I the only one outraged by Twitter shutting down share counts?', '', '28', '29', 'tkfx', '11/22/2015 13:43'], ['11610310', 'Ask HN: Aby recent changes to CSS that broke mobile?', '', '1', '1', 'polskibus', '5/2/2016 10:14']]\n"
     ]
    }
   ],
   "source": [
    "print(headers)\n",
    "print('\\n')\n",
    "print(ask_posts[0:3])"
   ]
  },
  {
   "cell_type": "markdown",
   "metadata": {},
   "source": [
    "The above output shows that the 'created_at' column is the one with the datetime value. In order to  work with this value, the datetime module will be imported. \n",
    "\n",
    "The procedure to determine which hour is the best is as follows:\n",
    "* First, we will calculate the number of ask posts created in each hour of the day, along with the number of comments received\n",
    "* Then the average number of comments ask posts receive by hour will be calculated"
   ]
  },
  {
   "cell_type": "code",
   "execution_count": 12,
   "metadata": {},
   "outputs": [],
   "source": [
    "import datetime as dt"
   ]
  },
  {
   "cell_type": "code",
   "execution_count": 13,
   "metadata": {},
   "outputs": [
    {
     "name": "stdout",
     "output_type": "stream",
     "text": [
      "[['8/16/2016 9:55', 6.0], ['11/22/2015 13:43', 29.0], ['5/2/2016 10:14', 1.0]]\n"
     ]
    }
   ],
   "source": [
    "result_list = []\n",
    "\n",
    "for row in ask_posts:\n",
    "    result_list.append([row[6],float(row[4])])\n",
    "    \n",
    "print(result_list[:3])"
   ]
  },
  {
   "cell_type": "markdown",
   "metadata": {},
   "source": [
    "Here, we can see that the created_at values are in string format. In order to extract the total and average number of comments by hour, the string format needs to be converted to datetime format."
   ]
  },
  {
   "cell_type": "code",
   "execution_count": 14,
   "metadata": {},
   "outputs": [],
   "source": [
    "hour_comment = [] #a list to store the number of comments and the hour in which they were made\n",
    "for element in result_list:\n",
    "    time = element[0]\n",
    "    datetime = dt.datetime.strptime(time, '%m/%d/%Y %H:%M')\n",
    "    hour = datetime.strftime('%H')\n",
    "    hour_comment.append([hour, element[1]])"
   ]
  },
  {
   "cell_type": "code",
   "execution_count": 15,
   "metadata": {},
   "outputs": [
    {
     "name": "stdout",
     "output_type": "stream",
     "text": [
      "[['09', 6.0], ['13', 29.0], ['10', 1.0]]\n"
     ]
    }
   ],
   "source": [
    "print(hour_comment[:3])"
   ]
  },
  {
   "cell_type": "markdown",
   "metadata": {},
   "source": [
    "Now that we have a list with just the hour value and the number of comments made per hour, we can create a frequency table where each hour will be stored as a key, and the total number of comments  and the average will be collected for each key."
   ]
  },
  {
   "cell_type": "code",
   "execution_count": 16,
   "metadata": {},
   "outputs": [
    {
     "name": "stdout",
     "output_type": "stream",
     "text": [
      "{'09': 251.0, '13': 1253.0, '10': 793.0, '14': 1416.0, '16': 1814.0, '23': 543.0, '12': 687.0, '17': 1146.0, '15': 4477.0, '21': 1745.0, '20': 1722.0, '02': 1381.0, '18': 1439.0, '03': 421.0, '05': 464.0, '19': 1188.0, '01': 683.0, '22': 479.0, '08': 492.0, '04': 337.0, '00': 447.0, '06': 397.0, '07': 267.0, '11': 641.0}\n",
      "\n",
      "\n",
      "{'09': 45, '13': 85, '10': 59, '14': 107, '16': 108, '23': 68, '12': 73, '17': 100, '15': 116, '21': 109, '20': 80, '02': 58, '18': 109, '03': 54, '05': 46, '19': 110, '01': 60, '22': 71, '08': 48, '04': 47, '00': 55, '06': 44, '07': 34, '11': 58}\n"
     ]
    }
   ],
   "source": [
    "freq_comments = {} #Total value of comments by hour\n",
    "counts_by_hour = {} #total number of posts by hour\n",
    "\n",
    "\n",
    "for row in hour_comment:\n",
    "    key = row[0]\n",
    "    comments = float(row[1])\n",
    "    \n",
    "    if key in counts_by_hour:\n",
    "        counts_by_hour[key] += 1\n",
    "        freq_comments[key] += comments\n",
    "    elif key not in counts_by_hour:\n",
    "        counts_by_hour[key] = 1\n",
    "        freq_comments[key] = comments\n",
    "\n",
    "print(freq_comments)\n",
    "print('\\n')\n",
    "print(counts_by_hour)"
   ]
  },
  {
   "cell_type": "markdown",
   "metadata": {},
   "source": [
    "Now we have two unique dictionaries that give us information on both how many posts have been made per hour, and how many comments these posts have received in total per hour.\n",
    "\n",
    "Since we cannot sort dictionaries, the below function to_sort converts the dictionary key value pairs to tuples, and appends them to a list which is returned. \n",
    "\n",
    "This list can then be sorted easily "
   ]
  },
  {
   "cell_type": "code",
   "execution_count": 17,
   "metadata": {},
   "outputs": [],
   "source": [
    "# to sort\n",
    "\n",
    "def to_sort(dictionary):\n",
    "    \n",
    "    sorting_list = []\n",
    "    \n",
    "    for key in dictionary:\n",
    "        value = float(dictionary[key])\n",
    "        sorting_list.append((value, key))\n",
    "        \n",
    "    return sorting_list\n",
    "\n",
    "\n",
    "comments_per_hour = to_sort(freq_comments)\n",
    "counts_per_hour = to_sort(counts_by_hour)"
   ]
  },
  {
   "cell_type": "code",
   "execution_count": 18,
   "metadata": {},
   "outputs": [
    {
     "name": "stdout",
     "output_type": "stream",
     "text": [
      "[(251.0, '09'), (1253.0, '13'), (793.0, '10')]\n",
      "\n",
      "\n",
      "[(45.0, '09'), (85.0, '13'), (59.0, '10')]\n"
     ]
    }
   ],
   "source": [
    "print(comments_per_hour[:3])\n",
    "print('\\n')\n",
    "print(counts_per_hour[:3])"
   ]
  },
  {
   "cell_type": "markdown",
   "metadata": {},
   "source": [
    "Now to sort the above two lists and get an idea about which hour has received the most comments and which hour has received the most posts"
   ]
  },
  {
   "cell_type": "code",
   "execution_count": 19,
   "metadata": {},
   "outputs": [],
   "source": [
    "def sorted_lists(list_name):\n",
    "    sorted_list = sorted(list_name, reverse = True)\n",
    "    \n",
    "    if list_name == comments_per_hour:\n",
    "         for element in sorted_list[:5]:\n",
    "            print(f\"The number of comments in the {element[1]}'th hour is {element[0]}\")\n",
    "    elif list_name == counts_per_hour:\n",
    "        for element in sorted_list[:5]:\n",
    "            print(f\"The number of posts in the {element[1]}'th hour is {element[0]}\")\n",
    "            \n",
    "    return sorted_list"
   ]
  },
  {
   "cell_type": "code",
   "execution_count": 20,
   "metadata": {},
   "outputs": [
    {
     "name": "stdout",
     "output_type": "stream",
     "text": [
      "The number of posts in the 15'th hour is 116.0\n",
      "The number of posts in the 19'th hour is 110.0\n",
      "The number of posts in the 21'th hour is 109.0\n",
      "The number of posts in the 18'th hour is 109.0\n",
      "The number of posts in the 16'th hour is 108.0\n"
     ]
    }
   ],
   "source": [
    "sorted_posts_list = sorted_lists(counts_per_hour)"
   ]
  },
  {
   "cell_type": "code",
   "execution_count": 21,
   "metadata": {},
   "outputs": [
    {
     "name": "stdout",
     "output_type": "stream",
     "text": [
      "The number of comments in the 15'th hour is 4477.0\n",
      "The number of comments in the 16'th hour is 1814.0\n",
      "The number of comments in the 21'th hour is 1745.0\n",
      "The number of comments in the 20'th hour is 1722.0\n",
      "The number of comments in the 18'th hour is 1439.0\n"
     ]
    }
   ],
   "source": [
    "sorted_comments_list = sorted_lists(comments_per_hour)"
   ]
  },
  {
   "cell_type": "markdown",
   "metadata": {},
   "source": [
    "The 15th, 16th, 21rst, 20th, 18th hours are the ones with the highest number of posts and comments received. However, let's calculate the average number of comments per post now, which is essentially just the dvision of (Total number of comments)/(Total number of posts)"
   ]
  },
  {
   "cell_type": "code",
   "execution_count": 22,
   "metadata": {},
   "outputs": [
    {
     "name": "stdout",
     "output_type": "stream",
     "text": [
      "[[5.5778, '09'], [14.7412, '13'], [13.4407, '10'], [13.2336, '14'], [16.7963, '16'], [7.9853, '23'], [9.411, '12'], [11.46, '17'], [38.5948, '15'], [16.0092, '21'], [21.525, '20'], [23.8103, '02'], [13.2018, '18'], [7.7963, '03'], [10.087, '05'], [10.8, '19'], [11.3833, '01'], [6.7465, '22'], [10.25, '08'], [7.1702, '04'], [8.1273, '00'], [9.0227, '06'], [7.8529, '07'], [11.0517, '11']]\n"
     ]
    }
   ],
   "source": [
    "avg_comments_per_hour = []\n",
    "\n",
    "for key in counts_by_hour:\n",
    "    value_to_append = round(freq_comments[key]/counts_by_hour[key],4)\n",
    "    avg_comments_per_hour.append([value_to_append, key])\n",
    "    \n",
    "print(avg_comments_per_hour)"
   ]
  },
  {
   "cell_type": "markdown",
   "metadata": {},
   "source": [
    "Now we have a list of lists that contain the average number of comments per post per hour. Let's sort this and then see the top 5 hours with the most engagement"
   ]
  },
  {
   "cell_type": "code",
   "execution_count": 23,
   "metadata": {},
   "outputs": [],
   "source": [
    "sorted_avg_comments = sorted(avg_comments_per_hour, reverse = True)"
   ]
  },
  {
   "cell_type": "code",
   "execution_count": 24,
   "metadata": {},
   "outputs": [
    {
     "name": "stdout",
     "output_type": "stream",
     "text": [
      "15 hour: 38.59 average comments per post\n",
      "02 hour: 23.81 average comments per post\n",
      "20 hour: 21.52 average comments per post\n",
      "16 hour: 16.80 average comments per post\n",
      "21 hour: 16.01 average comments per post\n"
     ]
    }
   ],
   "source": [
    "#Displaying the top 5 hours\n",
    "\n",
    "for element in sorted_avg_comments[:5]:\n",
    "    print(f'{element[1]} hour: {element[0]:.2f} average comments per post')"
   ]
  },
  {
   "cell_type": "markdown",
   "metadata": {},
   "source": [
    "As evidenced by the above output, we can see that the posts with the most engagement per post are generally in the early and late evening hours (US Time Zone), with the sole exception being the 02nd hour earlier in the morning. \n",
    "\n",
    "We also found that The 15th, 16th, 21rst, 20th, 18th hours are the ones with the highest number of posts and comments received. A possible explanation could be that since there are a high number of posts being made in these hours, there are also a lot of comments being made by users, hence the high number of average comments per post.\n",
    "\n",
    "Conversely, it could be that since there are fewer posts being made in the morning hours, users browsing then tend to respond more slowly, as there are fewer posts to engage.\n",
    "\n",
    "Let's take a further look into this theory by seeing the total number of posts and comments that are being made in the morning hours. "
   ]
  },
  {
   "cell_type": "code",
   "execution_count": 25,
   "metadata": {},
   "outputs": [],
   "source": [
    "ascending_sorted_posts_list = sorted(sorted_posts_list)\n",
    "ascending_sorted_comments_list = sorted(sorted_comments_list)"
   ]
  },
  {
   "cell_type": "code",
   "execution_count": 26,
   "metadata": {},
   "outputs": [
    {
     "name": "stdout",
     "output_type": "stream",
     "text": [
      "(Number of posts/comments, Hour)\n",
      "\n",
      "\n",
      "[(34.0, '07'), (44.0, '06'), (45.0, '09'), (46.0, '05'), (47.0, '04'), (48.0, '08'), (54.0, '03'), (55.0, '00'), (58.0, '02'), (58.0, '11'), (59.0, '10'), (60.0, '01'), (68.0, '23'), (71.0, '22'), (73.0, '12'), (80.0, '20'), (85.0, '13'), (100.0, '17'), (107.0, '14'), (108.0, '16'), (109.0, '18'), (109.0, '21'), (110.0, '19'), (116.0, '15')]\n",
      "\n",
      "\n",
      "[(251.0, '09'), (267.0, '07'), (337.0, '04'), (397.0, '06'), (421.0, '03'), (447.0, '00'), (464.0, '05'), (479.0, '22'), (492.0, '08'), (543.0, '23'), (641.0, '11'), (683.0, '01'), (687.0, '12'), (793.0, '10'), (1146.0, '17'), (1188.0, '19'), (1253.0, '13'), (1381.0, '02'), (1416.0, '14'), (1439.0, '18'), (1722.0, '20'), (1745.0, '21'), (1814.0, '16'), (4477.0, '15')]\n"
     ]
    }
   ],
   "source": [
    "print(\"(Number of posts/comments, Hour)\")\n",
    "print('\\n')\n",
    "print(ascending_sorted_posts_list)\n",
    "print('\\n')\n",
    "print(ascending_sorted_comments_list)"
   ]
  },
  {
   "cell_type": "markdown",
   "metadata": {},
   "source": [
    "Our assumption was somewhat accurate: as evidenced by the above output, there are both fewer posts and fewer comments being made in the morning hours. However, while the averages do indicate lower user engagement, there is a significant point to consider here:- Let's take an example to elaborate this point\n",
    "\n",
    "* Morning hours: 4 comments for 2 posts gives you an average of 2 comments per post\n",
    "* Evening hours: 1000 comments for 501 posts gives you an average lesser than 2. \n",
    "\n",
    "We also need to consider the fact that many comments being made in the evening could also be on posts that were made in the morning and vice versa!\n",
    "\n",
    "The only guaranteed conclusion we can make from our outputs is that Hacker News gets a lot of traffic in the late afternoon and early night hours. The reasons could be many, something even as simple as people getting off wo\n",
    "\n",
    "However, due to the higher amount of posts, and user engagement in the evening, there seems to be a higher probability of getting better engagement on an Ask Hn post when it's made during the evening. "
   ]
  }
 ],
 "metadata": {
  "kernelspec": {
   "display_name": "Python 3",
   "language": "python",
   "name": "python3"
  },
  "language_info": {
   "codemirror_mode": {
    "name": "ipython",
    "version": 3
   },
   "file_extension": ".py",
   "mimetype": "text/x-python",
   "name": "python",
   "nbconvert_exporter": "python",
   "pygments_lexer": "ipython3",
   "version": "3.8.2"
  }
 },
 "nbformat": 4,
 "nbformat_minor": 2
}
